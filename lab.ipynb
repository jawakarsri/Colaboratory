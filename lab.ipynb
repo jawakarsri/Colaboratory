{
  "nbformat": 4,
  "nbformat_minor": 0,
  "metadata": {
    "colab": {
      "provenance": [],
      "authorship_tag": "ABX9TyMpGCKv7EHQ+uZ6BbNe/Rco",
      "include_colab_link": true
    },
    "kernelspec": {
      "name": "python3",
      "display_name": "Python 3"
    },
    "language_info": {
      "name": "python"
    }
  },
  "cells": [
    {
      "cell_type": "markdown",
      "metadata": {
        "id": "view-in-github",
        "colab_type": "text"
      },
      "source": [
        "<a href=\"https://colab.research.google.com/github/jawakarsri/Colaboratory/blob/main/lab.ipynb\" target=\"_parent\"><img src=\"https://colab.research.google.com/assets/colab-badge.svg\" alt=\"Open In Colab\"/></a>"
      ]
    },
    {
      "cell_type": "code",
      "execution_count": null,
      "metadata": {
        "colab": {
          "base_uri": "https://localhost:8080/"
        },
        "id": "38qSq1rkDRxR",
        "outputId": "6be9a47d-0eb1-4d52-d632-ba47fb5a3f12"
      },
      "outputs": [
        {
          "output_type": "stream",
          "name": "stdout",
          "text": [
            "WELCOME TO THE SESSION OF AI\n"
          ]
        }
      ],
      "source": [
        "#printing output on screen\n",
        "print(\"WELCOME TO THE SESSION OF AI\")"
      ]
    },
    {
      "cell_type": "code",
      "source": [
        "\n",
        "m=54\n",
        "n=45\n",
        "r=0\n",
        "\n",
        "r=m+n\n",
        "print (\"sum = \", r)\n",
        "r=m-n\n",
        "print(\"Subtract = \", r)\n",
        "r=m*n\n",
        "print (\"Multiply = \", r)\n",
        "r=m/n\n",
        "print(\"Divide = \", r)"
      ],
      "metadata": {
        "colab": {
          "base_uri": "https://localhost:8080/"
        },
        "id": "qJKpVl8WFdF_",
        "outputId": "bc04a1cf-b676-4eea-e85e-5049e4dc6698"
      },
      "execution_count": null,
      "outputs": [
        {
          "output_type": "stream",
          "name": "stdout",
          "text": [
            "sum =  99\n",
            "Subtract =  9\n",
            "Multiply =  2430\n",
            "Divide =  1.2\n"
          ]
        }
      ]
    },
    {
      "cell_type": "code",
      "source": [
        "\n",
        "#Get Number input from user\n",
        "today_gen=0.3\n",
        "gen31 = float(input(\"Enter Generation in Block 31:\"))\n",
        "today_gen= today_gen+gen31\n",
        "print(\"Generation Today=\", today_gen)\n"
      ],
      "metadata": {
        "colab": {
          "base_uri": "https://localhost:8080/"
        },
        "id": "yUDqpYWdGYvO",
        "outputId": "fc073117-77ae-4345-c08a-015166942b35"
      },
      "execution_count": null,
      "outputs": [
        {
          "output_type": "stream",
          "name": "stdout",
          "text": [
            "Enter Generation in Block 31:0.1\n",
            "Generation Today= 0.4\n"
          ]
        }
      ]
    },
    {
      "cell_type": "code",
      "source": [
        "#Get String input from the user\n",
        "progname = input(\"Enter the program name:\")\n",
        "print (progname)"
      ],
      "metadata": {
        "colab": {
          "base_uri": "https://localhost:8080/"
        },
        "id": "z6OeAO2XHkxJ",
        "outputId": "cb660af3-6aee-4af6-971e-456c7759d793"
      },
      "execution_count": null,
      "outputs": [
        {
          "output_type": "stream",
          "name": "stdout",
          "text": [
            "Enter the program name: LAB \n",
            " LAB \n"
          ]
        }
      ]
    },
    {
      "cell_type": "code",
      "source": [
        "#python String Data Type\n",
        "str=\"solar Data Set\"\n",
        "print(str)\n",
        "print(str[0])\n",
        "print(str[5:10])\n",
        "print(str[5:])\n",
        "print(str*2 )\n",
        "print(str +\"for Pyhton Program \")"
      ],
      "metadata": {
        "colab": {
          "base_uri": "https://localhost:8080/"
        },
        "id": "g-fcjNcMK0wc",
        "outputId": "2a1ef457-e302-49fc-edca-5e570d62cfd8"
      },
      "execution_count": null,
      "outputs": [
        {
          "output_type": "stream",
          "name": "stdout",
          "text": [
            "solar Data Set\n",
            "s\n",
            " Data\n",
            " Data Set\n",
            "solar Data Setsolar Data Set         \n",
            "solar Data Setfor Pyhton Program \n"
          ]
        }
      ]
    },
    {
      "cell_type": "code",
      "source": [
        "#list Data Type\n",
        "list1=[\"Data1\",80977.3,31,0.1]\n",
        "list2=[\"Data2\",80977.4,32.0,7]\n",
        "print(list1)\n",
        "print(list2)\n",
        "print(list1,list2)"
      ],
      "metadata": {
        "colab": {
          "base_uri": "https://localhost:8080/"
        },
        "id": "tx0nxAzULe-U",
        "outputId": "faccab45-224e-4a64-8d4b-f4af4769403e"
      },
      "execution_count": null,
      "outputs": [
        {
          "output_type": "stream",
          "name": "stdout",
          "text": [
            "['Data1', 80977.3, 31, 0.1]\n",
            "['Data2', 80977.4, 32.0, 7]\n",
            "['Data1', 80977.3, 31, 0.1] ['Data2', 80977.4, 32.0, 7]\n"
          ]
        }
      ]
    },
    {
      "cell_type": "code",
      "source": [
        "#Tuple Data Type\n",
        "tupple1=(\"DATA3\",80978.1,33,1.1)\n",
        "tupple2=(\"DATA4\",80978.2,33,0.5)\n",
        "print(tupple1)\n",
        "print(tupple2)\n",
        "print(tupple1,tupple2)\n",
        "\n"
      ],
      "metadata": {
        "colab": {
          "base_uri": "https://localhost:8080/"
        },
        "id": "o6RvSgx1OseW",
        "outputId": "5dc90e09-8f33-438c-887a-2633f373dde2"
      },
      "execution_count": null,
      "outputs": [
        {
          "output_type": "stream",
          "name": "stdout",
          "text": [
            "('DATA3', 80978.1, 33, 1.1)\n",
            "('DATA4', 80978.2, 33, 0.5)\n",
            "('DATA3', 80978.1, 33, 1.1) ('DATA4', 80978.2, 33, 0.5)\n"
          ]
        }
      ]
    },
    {
      "cell_type": "code",
      "source": [
        "print(tupple1[0:2])\n",
        "print(tupple1[1:])\n",
        "print(tupple1[0])\n",
        "print(tupple1*2)\n",
        "print(tupple1+tupple2)"
      ],
      "metadata": {
        "colab": {
          "base_uri": "https://localhost:8080/"
        },
        "id": "uuCOxEpSP7nY",
        "outputId": "b3b52eb1-da15-4670-bd00-3568e4743d77"
      },
      "execution_count": null,
      "outputs": [
        {
          "output_type": "stream",
          "name": "stdout",
          "text": [
            "('DATA3', 80978.1)\n",
            "(80978.1, 33, 1.1)\n",
            "DATA3\n",
            "('DATA3', 80978.1, 33, 1.1, 'DATA3', 80978.1, 33, 1.1)\n",
            "('DATA3', 80978.1, 33, 1.1, 'DATA4', 80978.2, 33, 0.5)\n"
          ]
        }
      ]
    },
    {
      "cell_type": "code",
      "source": [
        "#Dictionary Examples\n",
        "d1={'Data1':'Apartment1','Block':23,'Genration in each block ':0.2}\n",
        "d2={'Data1':'Apartment2','Block':25,'Genration in each block ':0.8}\n",
        "print(d1)\n",
        "print(d2)\n",
        "print(d1.keys())\n",
        "print(d1.values())\n"
      ],
      "metadata": {
        "colab": {
          "base_uri": "https://localhost:8080/"
        },
        "id": "4XpZ2nlrVPGT",
        "outputId": "ad0bdc6a-01de-40eb-d12d-3e954d8b3811"
      },
      "execution_count": null,
      "outputs": [
        {
          "output_type": "stream",
          "name": "stdout",
          "text": [
            "{'Data1': 'Apartment1', 'Block': 23, 'Genration in each block ': 0.2}\n",
            "{'Data1': 'Apartment2', 'Block': 25, 'Genration in each block ': 0.8}\n",
            "dict_keys(['Data1', 'Block', 'Genration in each block '])\n",
            "dict_values(['Apartment1', 23, 0.2])\n"
          ]
        }
      ]
    },
    {
      "cell_type": "code",
      "source": [
        "n1=23\n",
        "n2=32\n",
        "res=0\n",
        "print(\"IF n1=2 and n2=3,Then \")\n",
        "res = n1+n2\n",
        "print(\"Num1 + num2 = \",res)\n",
        "res = n1-n2\n",
        "print(\"Num1 - num2 = \",res)\n",
        "res = n1*n2\n",
        "print(\"Num1 * num2 = \",res)\n",
        "res = n1/n2\n",
        "print(\"Num1 / num2 = \",res)\n",
        "res = n1%n2\n",
        "print(\"Num1 % num2 = \",res)\n",
        "#change values \n",
        "n1=4\n",
        "n2=2\n",
        "print(\"IF n1=4 and n2=2,Then \");\n",
        "res = n1**n2\n",
        "print(\"Num1 ** num2 = \",res)\n",
        "res = n1//n2\n",
        "print(\"Num1 // num2 = \",res)\n",
        "\n"
      ],
      "metadata": {
        "colab": {
          "base_uri": "https://localhost:8080/"
        },
        "id": "ATP4Oo0XVv1W",
        "outputId": "e9f2d7f6-5efc-4445-c24e-16eab367d4df"
      },
      "execution_count": null,
      "outputs": [
        {
          "output_type": "stream",
          "name": "stdout",
          "text": [
            "IF n1=2 and n2=3,Then \n",
            "Num1 + num2 =  55\n",
            "Num1 - num2 =  -9\n",
            "Num1 * num2 =  736\n",
            "Num1 / num2 =  0.71875\n",
            "Num1 % num2 =  23\n",
            "IF n1=4 and n2=2,Then \n",
            "Num1 ** num2 =  16\n",
            "Num1 // num2 =  2\n"
          ]
        }
      ]
    },
    {
      "cell_type": "code",
      "source": [
        "\n",
        "n1=23\n",
        "n2=20\n",
        "res=0\n",
        "print(\"If num1 = 23 and n2 = 20, Then \");\n",
        "if n1==n2:\n",
        "   print(\"Num1 is equal to Num2\")\n",
        "else:\n",
        "   print(\"Num1 is not equal to Num2\")\n",
        "   "
      ],
      "metadata": {
        "id": "fjjOf19tV100",
        "outputId": "70d12623-2587-405b-b55e-f142eb415aa1",
        "colab": {
          "base_uri": "https://localhost:8080/"
        }
      },
      "execution_count": null,
      "outputs": [
        {
          "output_type": "stream",
          "name": "stdout",
          "text": [
            "If num1 = 23 and n2 = 20, Then \n",
            "Num1 is not equal to Num2\n"
          ]
        }
      ]
    }
  ]
}